{
 "cells": [
  {
   "cell_type": "markdown",
   "metadata": {},
   "source": [
    "# Exploring RNNs\n",
    "In this notebook, we will be creating a simple Elman-type recurrent neural network (RNN) followed by implementing backpropagation through time (BPTT) to train the RNN on 2D hand-drawn trajectories.\n",
    "\n",
    "The Elman-type RNN is a 3-layered network with a recurrent hidden (context) layer, with the following structure:\n",
    "- $\\mathbf{x}_t$ as the input\n",
    "- $\\mathbf{c}_t$ as the internal state\n",
    "- $\\widehat{\\mathbf{y}}_{t+1}$ as the output.\n",
    "\n",
    "The network is defined by the following equations:\n",
    "$$\\begin{align*}\n",
    "\\mathbf{c}_{t+1} &= \\boldsymbol{\\theta}(\\underbrace{\\mathbf{W}^{cc}\\mathbf{c}_t + \\mathbf{W}^{cx}\\mathbf{x}_{t} + \\mathbf{b}^c}_{\\mathbf{s}^c_{t+1}}) \\\\\n",
    "\\widehat{\\mathbf{y}}_{t+1} &= \\boldsymbol{\\phi}(\\underbrace{\\mathbf{W}^{yc}\\mathbf{c}_{t+1} + \\mathbf{b}^y}_{\\mathbf{s}^{y}_{t+1}}),\n",
    "\\end{align*}$$\n",
    "where $\\boldsymbol{\\theta}(\\cdot)$ and $\\boldsymbol{\\phi}(\\cdot)$ are vectorized activation functions (e.g. ReLU and sigmoid) and $\\mathbf{c}_0$ is a trainable initial context state that plays a key role in capturing the starting conditions of each trajectory.\n",
    "\n",
    "We will use squared Euclidean distance from the trajectory at every timestep as the loss function to train the network:\n",
    "$$E_t(\\Omega) = ||\\mathbf{y}_t - \\widehat{\\mathbf{y}}_t||^2, \\quad t \\geq 1$$\n",
    "where the row vectors $\\widehat{\\mathbf{y}}_t$ and $\\mathbf{y}_t$ are the predicted and target trajectory points, respectively, at timestep $t$, and $\\Omega$ is the set of trainable model parameters (e.g. weights and biases) in our network."
   ]
  },
  {
   "cell_type": "markdown",
   "metadata": {},
   "source": [
    "## 1. Getting the Data\n",
    "We will start with the preliminaries like importing the necessary libraries and creating a canvas to draw the training data. Datasets for different trajectory sequences can be created (hand-drawn) on this canvas."
   ]
  },
  {
   "cell_type": "code",
   "execution_count": 1,
   "metadata": {},
   "outputs": [],
   "source": [
    "import numpy as np\n",
    "import matplotlib.pyplot as plt\n",
    "from ipycanvas import Canvas, hold_canvas\n",
    "import ipywidgets as widgets\n",
    "from IPython.display import display\n",
    "import os"
   ]
  },
  {
   "cell_type": "code",
   "execution_count": 2,
   "metadata": {},
   "outputs": [
    {
     "data": {
      "application/vnd.jupyter.widget-view+json": {
       "model_id": "8d6c452e7726482885533460a6318651",
       "version_major": 2,
       "version_minor": 0
      },
      "text/plain": [
       "Canvas(height=400, width=400)"
      ]
     },
     "metadata": {},
     "output_type": "display_data"
    },
    {
     "data": {
      "application/vnd.jupyter.widget-view+json": {
       "model_id": "c5f038ccc766426dad32b0883c787d24",
       "version_major": 2,
       "version_minor": 0
      },
      "text/plain": [
       "HBox(children=(Button(description='Clear Canvas', style=ButtonStyle()), Text(value='./data/new_trajectory.npz'…"
      ]
     },
     "metadata": {},
     "output_type": "display_data"
    }
   ],
   "source": [
    "canvas_width = 400\n",
    "canvas_height = 400\n",
    "canvas = Canvas(width=canvas_width, height=canvas_height)\n",
    "bgcolor = \"#D3D3D3\" # lightgrey\n",
    "canvas.fill_style = bgcolor\n",
    "canvas.fill_rect(0, 0, canvas_width, canvas_height)\n",
    "display(canvas)\n",
    "\n",
    "traj = []\n",
    "drawing = False\n",
    "\n",
    "# event handlers\n",
    "def handle_mouse_down(x, y):\n",
    "    global drawing\n",
    "    drawing = True\n",
    "    traj.clear()  # start a new trajectory\n",
    "    traj.append((x, y))\n",
    "    \n",
    "def handle_mouse_move(x, y):\n",
    "    if drawing:\n",
    "        if not traj:\n",
    "            return\n",
    "        # draw a line segment from the previous point to the current one\n",
    "        prev_x, prev_y = traj[-1]\n",
    "        with hold_canvas(canvas):\n",
    "            canvas.stroke_line(prev_x, prev_y, x, y)\n",
    "        traj.append((x, y))\n",
    "\n",
    "def handle_mouse_up(x, y):\n",
    "    global drawing\n",
    "    if drawing:\n",
    "        traj.append((x, y))\n",
    "        drawing = False\n",
    "\n",
    "canvas.on_mouse_down(handle_mouse_down)\n",
    "canvas.on_mouse_move(handle_mouse_move)\n",
    "canvas.on_mouse_up(handle_mouse_up)\n",
    "\n",
    "# utility functions\n",
    "def normalize_trajectory(trj):\n",
    "    \"\"\"normalize points to [0, 1] range\"\"\"\n",
    "    normalized_traj = np.array(trj).astype(float)\n",
    "    # flip y-axis to align with global coordinate system\n",
    "    normalized_traj[:, 1] = canvas_height - normalized_traj[:, 1]\n",
    "    # normalize\n",
    "    normalized_traj[:, 0] /= canvas_width\n",
    "    normalized_traj[:, 1] /= canvas_height\n",
    "    return normalized_traj\n",
    "\n",
    "def resample_trajectory(trj, num_points=100):\n",
    "    \"\"\"linearly resample a trajectory to have exactly num_points\"\"\"\n",
    "    curr_traj = np.array(trj)\n",
    "    original_indices = np.linspace(0, 1, len(curr_traj))\n",
    "    new_indices = np.linspace(0, 1, num_points)\n",
    "    resampled_traj = np.zeros((num_points, curr_traj.shape[1]))\n",
    "    # interpolate each dimension independently\n",
    "    for i in range(curr_traj.shape[1]):\n",
    "        resampled_traj[:, i] = np.interp(new_indices, original_indices, curr_traj[:, i])\n",
    "    return resampled_traj\n",
    "\n",
    "# ui elements\n",
    "file_name_text = widgets.Text(\n",
    "    value='./data/new_trajectory.npz',\n",
    "    description='File name:',\n",
    "    placeholder='Enter file name...'\n",
    ")\n",
    "\n",
    "clear_button = widgets.Button(description=\"Clear Canvas\")\n",
    "def clear_canvas(b):\n",
    "    canvas.clear()\n",
    "    traj.clear()\n",
    "    canvas.fill_rect(0, 0, canvas_width, canvas_height)\n",
    "clear_button.on_click(clear_canvas)\n",
    "\n",
    "save_button = widgets.Button(description=\"Save Trajectory\")\n",
    "def save_trajectory(b):\n",
    "    if len(traj) < 2:\n",
    "        print(\"Not enough points drawn. Please draw a trajectory first.\")\n",
    "        return\n",
    "    curr_traj = np.array(traj)\n",
    "    traj_normalized = normalize_trajectory(curr_traj)\n",
    "    traj_resampled = resample_trajectory(traj_normalized, num_points=100)\n",
    "    file_path = file_name_text.value\n",
    "    directory = os.path.dirname(file_path)\n",
    "    if directory and not os.path.exists(directory):\n",
    "        os.makedirs(directory, exist_ok=True)\n",
    "    np.savez(file_name_text.value, trajectory=traj_resampled)\n",
    "    print(\"Trajectory saved to {}\".format(file_path))\n",
    "\n",
    "save_button.on_click(save_trajectory)\n",
    "\n",
    "# display widgets\n",
    "display(widgets.HBox([clear_button, file_name_text, save_button]))"
   ]
  },
  {
   "cell_type": "markdown",
   "metadata": {},
   "source": [
    "## 2. Implementing the RNN\n",
    "### 2.1 Preliminaries\n",
    "The forward pass of the network is defined in the section above. We will begin by creating the loss and activation function classes as well as the overall `RNN` class with dense fully connected input, output, and a stateful hidden context layer."
   ]
  },
  {
   "cell_type": "code",
   "execution_count": 3,
   "metadata": {},
   "outputs": [],
   "source": [
    "# activation functions\n",
    "class ReLU:\n",
    "    # relu = max(x, 0)\n",
    "    @staticmethod\n",
    "    def __call__(x):\n",
    "        return np.maximum(x, 0)\n",
    "    # derivative of relu\n",
    "    @staticmethod\n",
    "    def prime(x):\n",
    "        return np.where(x > 0.0, 1.0, 0.0)\n",
    "\n",
    "class Sigmoid:\n",
    "    # sigmoid = 1 / (1 + exp(-x))\n",
    "    @staticmethod\n",
    "    def __call__(x):\n",
    "        return 1/(1 + np.exp(-x))\n",
    "    # derivative of sigmoid\n",
    "    @staticmethod\n",
    "    def prime(x):\n",
    "        sigmoid = Sigmoid()(x)\n",
    "        return sigmoid*(1 - sigmoid)\n",
    "    \n",
    "class Tanh:\n",
    "    # tanh = (exp(x) - exp(-x)) / (exp(x) + exp(-x))\n",
    "    @staticmethod\n",
    "    def __call__(x):\n",
    "        return np.tanh(x)\n",
    "    # derivative of tanh\n",
    "    @staticmethod\n",
    "    def prime(x):\n",
    "        return 1 - np.tanh(x)**2"
   ]
  },
  {
   "cell_type": "markdown",
   "metadata": {},
   "source": [
    "We will denote an individual weight $w^{ab}_{i,j}$ to be along an edge connecting node $j$ in layer $b$ to node $i$ in layer $a$, representing an entry in the corresponding weight matrix $\\mathbf{W}^{ab}$ under conventional row-column indexing. The preactivation input at layer $a$ is given by $\\mathbf{s}^{a} = \\mathbf{W}^{ab}\\mathbf{x}^{b} + \\mathbf{b}^{a}$ with the corresponding layer activation $\\mathbf{x}^{a} = \\boldsymbol{\\theta}^{a}(\\mathbf{s}^a)$.\n",
    "\n",
    "To prompt effective and stable learning in simple RNNs, we follow this [paper](https://arxiv.org/abs/1511.03771v3) to initialize all weights. Accordingly, the feedforward weights $\\mathbf{W}^{cx} \\in \\mathbb{R}^{n_c \\times n_x}$ are drawn independently from a zero-mean Gaussian distribution with variance $1/{n_c}$, and are further scaled by a factor $$\\alpha = \\sqrt{2}\\exp\\left(\\frac{1.2}{\\max(n_c, 6)-2.4}\\right).$$\n",
    "Similarly, the weights $\\mathbf{W}^{yc} \\in \\mathbb{R}^{n_y \\times n_c}$ follow the Xavier (Glorot) initialization scheme and are drawn independently from a Gaussian distribution with variance $2/(n_c+n_y)$.\n",
    "The recurrent weights $\\mathbf{W}^{cc} \\in \\mathbb{R}^{n_c \\times n_c}$ are initialized to form a positive-definite (random) matrix with the highest eigenvalue of unity. Specifically, starting with a standard normal matrix $\\mathbf{R} \\in \\mathbb{R}^{n_c \\times n_c}$, we perform the following computations:\n",
    "$$\\begin{align*}\n",
    "\\mathbf{P} &= \\mathbf{I} + \\frac{\\mathbf{R}^\\top\\mathbf{R}}{n_c} \\\\\n",
    "\\mathbf{W}^{cc} &= \\frac{\\mathbf{P}}{\\max\\left(\\lambda\\left(\\mathbf{P}\\right)\\right)},\n",
    "\\end{align*}$$\n",
    "where $\\lambda(\\mathbf{P})$ is the set of all eigenvalue magnitudes of matrix $\\mathbf{P}$. All the biases are set to zero. All entries in the initial context vectors $\\mathbf{c}_0$ are drawn independently from a zero-mean Gaussian distribution with variance $1/{n_c}$."
   ]
  },
  {
   "cell_type": "code",
   "execution_count": 4,
   "metadata": {},
   "outputs": [],
   "source": [
    "class RNN:\n",
    "    \"\"\"\n",
    "    simple RNN with one hidden, stateful context layer that is trainable for multiple sequences with shared \n",
    "    weights and biases but different starting contexts\n",
    "    \"\"\"\n",
    "    def __init__(self, input_dim, hidden_dim, output_dim, activations, seqIDs=[]):\n",
    "        # seqIDs needed to store sequence-wise initial contexts\n",
    "        # network parameters are initialized according to https://arxiv.org/abs/1511.03771v3\n",
    "        assert len(activations) == 2\n",
    "        self.input_dim = input_dim\n",
    "        self.hidden_dim = hidden_dim\n",
    "        self.output_dim = output_dim\n",
    "        self.activations  = activations\n",
    "        self.seqIDs = seqIDs\n",
    "\n",
    "        # Wcx: i.i.d. entries ~ scaled Gaussian distribution (mu=0, sigma^2=1/hidden_dim, scaled by alpha)\n",
    "        alpha = np.sqrt(2) * np.exp(1.2/(max(hidden_dim, 6) - 2.4))\n",
    "        self.Wcx = (alpha/np.sqrt(hidden_dim)) * np.random.randn(hidden_dim, input_dim)\n",
    "\n",
    "        # Wcc: initialized to a random positive-definite matrix with highest eigval of unity\n",
    "        R = np.random.randn(hidden_dim, hidden_dim)\n",
    "        P = np.eye(hidden_dim) + (R.T @ R) / hidden_dim\n",
    "        e = np.max(np.abs(np.linalg.eigvals(P)))\n",
    "        self.Wcc = P / e\n",
    "\n",
    "        # Wyc: i.i.d. entries ~ Gaussian distribution (mu=0, sigma^2=2/(n_in+n_out))\n",
    "        # this scheme is also known as the Xavier or Glorot initialization\n",
    "        self.Wyc = np.random.randn(output_dim, hidden_dim) / np.sqrt((output_dim+hidden_dim)/2)\n",
    "\n",
    "        # initialize biases (according to the Glorot scheme)\n",
    "        self.bc = np.zeros((hidden_dim,))\n",
    "        self.by = np.zeros((output_dim,))\n",
    "\n",
    "        # dictionary of initial contexts for each sequence (and its copy for stateful compute)\n",
    "        self.c0 = {seqID: np.random.randn(hidden_dim,)/np.sqrt(hidden_dim) for seqID in seqIDs}\n",
    "        self.ct = {seqID: np.copy(self.c0[seqID]) for seqID in seqIDs}\n",
    "\n",
    "    def add_seqID(self, seqID):\n",
    "        self.seqIDs.append(seqID)\n",
    "        self.c0[seqID] = np.random.randn(self.hidden_dim, 1)/np.sqrt(self.hidden_dim)\n",
    "        self.ct[seqID] = np.copy(self.c0[seqID])\n",
    "\n",
    "    def remove_seqID(self, seqID):\n",
    "        self.seqIDs.remove(seqID)\n",
    "        del self.c0[seqID]\n",
    "        del self.ct[seqID]\n",
    "    \n",
    "    def get_c0(self, seqID):\n",
    "        assert seqID in self.seqIDs\n",
    "        return np.copy(self.c0[seqID])\n",
    "\n",
    "    def get_ct(self, seqID):\n",
    "        assert seqID in self.seqIDs\n",
    "        return np.copy(self.ct[seqID])\n",
    "\n",
    "    def step_stateless(self, x, c):\n",
    "        \"\"\"perform a single step of forward propagation (memoryless)\"\"\"\n",
    "        cnxt = self.activations[0](self.Wcx @ x + self.Wcc @ c + self.bc)\n",
    "        ynxt = self.activations[1](self.Wyc @ cnxt + self.by)\n",
    "        return ynxt, cnxt\n",
    "\n",
    "    def step_stateful(self, x, seqID):\n",
    "        \"\"\"perform a single step of forward propagation (with memory)\"\"\"\n",
    "        assert seqID in self.seqIDs\n",
    "        self.ct[seqID] = self.activations[0](self.Wcx @ x + self.Wcc @ self.ct[seqID] + self.bc)\n",
    "        y = self.activations[1](self.Wyc @ self.ct[seqID] + self.by)\n",
    "        return y\n",
    "\n",
    "    def update_c0(self, c0, seqID):\n",
    "        assert seqID in self.seqIDs\n",
    "        self.c0[seqID] = np.copy(c0)\n",
    "        self.reset_ct(seqID)\n",
    "\n",
    "    def reset_ct(self, seqID):\n",
    "        assert seqID in self.seqIDs\n",
    "        self.ct[seqID] = self.get_c0(seqID)\n",
    "\n",
    "    def fwd_prop(self, x, T, seqID):\n",
    "        \"\"\"\n",
    "        forward propagation over next T time steps by closing the input-output loop\n",
    "        output: yt = [y_0|y_1| ... |y_T], ct = [c_0|c_1| ... |c_T]\n",
    "        \"\"\"\n",
    "        c = self.get_c0(seqID)\n",
    "        yt = np.concatenate((x.reshape(-1,1), np.zeros((self.output_dim, T))), axis=1)\n",
    "        ct = np.concatenate((c.reshape(-1,1), np.zeros((self.hidden_dim, T))), axis=1)\n",
    "        for t in range(1, T+1):\n",
    "            yt[:, t], ct[:, t] = self.step_stateless(yt[:, t-1], ct[:, t-1])\n",
    "        return yt, ct"
   ]
  },
  {
   "cell_type": "markdown",
   "metadata": {},
   "source": [
    "The accuracy of the network at any instant will be estimated by calculating the net loss (i.e. the sum of deviation errors at each timestep) over the entire sequence length given a fixed set of parameters, \n",
    "$$E_\\text{tot} = \\sum_{1 \\leq t \\leq T} E_t(\\Omega).$$"
   ]
  },
  {
   "cell_type": "code",
   "execution_count": 7,
   "metadata": {},
   "outputs": [],
   "source": [
    "# step loss and net loss functions\n",
    "class SquaredNormLoss:\n",
    "    # loss = ||y - yhat||^2 for y, yhat in R^n (output_dim)\n",
    "    @staticmethod\n",
    "    def __call__(y, yhat):\n",
    "        return np.sum((y - yhat)**2) # current squared error\n",
    "    \n",
    "    # derivative with respect to input (yhat)\n",
    "    @staticmethod\n",
    "    def prime(y, yhat):\n",
    "        return 2*(y - yhat)\n",
    "\n",
    "def netloss(ys, yshat):\n",
    "    \"\"\"expects ys and yshat to be of shape (output_dim, T)\"\"\"\n",
    "    assert ys.shape == yshat.shape\n",
    "    return np.sum((ys[:, 1:] - yshat[:, 1:])**2) # net squared error"
   ]
  },
  {
   "cell_type": "markdown",
   "metadata": {},
   "source": [
    "We will run a forward pass on an untrained, newly initialized network and test for its accuracy to see if our implementation is functional thus far. We source the data from section 3 just for this purpose."
   ]
  },
  {
   "cell_type": "code",
   "execution_count": 106,
   "metadata": {},
   "outputs": [
    {
     "name": "stdout",
     "output_type": "stream",
     "text": [
      "Net Loss: 21.5566\n"
     ]
    },
    {
     "data": {
      "image/png": "[encoded data removed]",
      "text/plain": [
       "<Figure size 400x400 with 1 Axes>"
      ]
     },
     "metadata": {},
     "output_type": "display_data"
    }
   ],
   "source": [
    "# test forward propagation and loss functions\n",
    "rnn = RNN(2, 2, 2, [ReLU(), Sigmoid()], seqIDs=['test-run'])\n",
    "circ_traj = np.load('./data/circle1.npz')['trajectory'].T\n",
    "pred_traj, _ = rnn.fwd_prop(circ_traj[:, 0], circ_traj.shape[1]-1, 'test-run')\n",
    "loss = netloss(circ_traj, pred_traj)\n",
    "print(\"Net Loss: {:.4f}\".format(loss))\n",
    "# plot the trajectories for comparison\n",
    "plt.figure(figsize=(4, 4))\n",
    "plt.plot(circ_traj[0], circ_traj[1], 'b-', label='original')\n",
    "plt.plot(pred_traj[0], pred_traj[1], 'r--', label='predicted')\n",
    "plt.title('Trajectories')\n",
    "plt.legend(loc='upper right')\n",
    "plt.gca().set_aspect('equal', adjustable='box')\n",
    "plt.tight_layout()\n",
    "plt.show()"
   ]
  },
  {
   "cell_type": "markdown",
   "metadata": {},
   "source": [
    "### 2.2 BPTT Derivation and Implementation\n",
    "Here we will use a particular style of BPTT for RNNs, called Teacher Forcing, wherein output at each timestep matters and is sought to be aligned to the input sequence. To ensure good generalization, we will train on multiple sequences of the _same kind_.\n",
    "\n",
    "BPTT involves unrolling the recurrent network by repeating the hidden layer (in the corresponding feedforward computational graph) to calculate the output for the next timestep. Based on the error at that timestep, new gradients are backpropagated and are eventually accumulated to update all trainable parameters in the network based on sequence prediction (or regeneration) errors. Below, we lay out the recursive backpropagation equations along with the base case for the input layer."
   ]
  },
  {
   "cell_type": "markdown",
   "metadata": {},
   "source": [
    "Following the delta-rule for backpropagating errors through dense networks with vectorized layer activations, we define\n",
    "$\\boldsymbol{\\delta}^a \\coloneqq \\frac{\\partial E_t}{\\partial \\mathbf{s}^a}$. In the base case, we compute the gradients based on the first (feedforward) prediction step of the network, i.e. at $t=1$:\n",
    "$$\\begin{align*}\n",
    "\\boldsymbol{\\delta}^y_1 = \\boldsymbol{\\phi}^\\prime&\\left(\\mathbf{s}_1^y\\right)\\odot\\frac{\\partial E_1}{\\partial \\widehat{\\mathbf{y}}} \\tag{o1}\\\\\n",
    "\\frac{\\partial E_1}{\\partial \\mathbf{W}^{yc}} = \\boldsymbol{\\delta}^y_1&\\mathbf{c}_1^\\top, \\quad \\frac{\\partial E_1}{\\partial \\mathbf{b}^{y}} = \\boldsymbol{\\delta}^y_1 \\tag{o2}\\\\\n",
    "\\boldsymbol{\\delta}^c_1 = \\boldsymbol{\\theta}^\\prime&\\left(\\mathbf{s}_1^c\\right) \\odot \\mathbf{W}^{yc\\top}\\boldsymbol{\\delta}^y_1 \\tag{o3}\n",
    "\\end{align*}$$\n",
    "$$\\begin{equation*}\n",
    "\\boxed{\n",
    "\\frac{\\partial E_t}{\\partial \\mathbf{W}^{cc}} = \\boldsymbol{\\delta}^c_1\\mathbf{c}_0^\\top, \\quad \\frac{\\partial E_t}{\\partial \\mathbf{W}^{cx}} = \\boldsymbol{\\delta}^c_1\\mathbf{x}_0^\\top, \\quad \\frac{\\partial E_t}{\\partial \\mathbf{b}^{c}} = \\boldsymbol{\\delta}^c_1, \\quad \\frac{\\partial E_t}{\\partial \\mathbf{c}_0} = \\mathbf{W}^{cc\\top}\\boldsymbol{\\delta}^c_1.\n",
    "}\n",
    "\\tag{i1}\n",
    "\\end{equation*}$$\n",
    "\n",
    "The case for $t>1$ (here shown for $t=2$) becomes:\n",
    "$$\\begin{align*}\n",
    "\\boldsymbol{\\delta}^y_2 = \\boldsymbol{\\phi}^\\prime\\left(\\mathbf{s}_2^y\\right)&\\odot\\frac{\\partial E_2}{\\partial \\widehat{\\mathbf{y}}} \\\\\n",
    "\\frac{\\partial E_2}{\\partial \\mathbf{W}^{yc}} = \\boldsymbol{\\delta}^y_2\\mathbf{c}_2^\\top&, \\quad \\frac{\\partial E_2}{\\partial \\mathbf{b}^{y}} = \\boldsymbol{\\delta}^y_2\\\\\n",
    "\\boldsymbol{\\delta}^c_2 = \\boldsymbol{\\theta}^\\prime\\left(\\mathbf{s}_2^c\\right)&\\odot\\mathbf{W}^{yc\\top}\\boldsymbol{\\delta}^y_2 \\\\[4mm]\n",
    "\\frac{\\partial E_2}{\\partial \\mathbf{W}^{cc}} = \\boldsymbol{\\delta}^c_2\\mathbf{c}_1^\\top, \\quad \\frac{\\partial E_2}{\\partial \\mathbf{W}^{cx}} &= \\boldsymbol{\\delta}^c_2\\mathbf{x}_1^\\top, \\quad \\frac{\\partial E_2}{\\partial \\mathbf{b}^{c}} = \\boldsymbol{\\delta}^c_2 \\tag{h1}\\\\\n",
    "\\boldsymbol{\\delta}^c_1 = \\boldsymbol{\\theta}^\\prime\\left(\\mathbf{s}_1^c\\right)&\\odot\\mathbf{W}^{cc\\top}\\boldsymbol{\\delta}^c_2 \\tag{h2}\n",
    "\\end{align*}$$\n",
    "$$\\ldots \\quad \\text{invoke base case above (i1).}$$\n",
    "\n",
    "Note that all the same-parameter gradients are summed over backpropagation for each timestep and the entire unrolling."
   ]
  },
  {
   "cell_type": "markdown",
   "metadata": {},
   "source": [
    "### 2.3 Fine-tuning\n",
    "Although many ways to fine-tune RNNs exist and can be further envisioned, for now, we will initially train the network using the teacher forcing paradigm and then move to unrolling the network by feeding back its previous output and applying the corresponding backpropagation of errors at each step. This will also require slightly modified gradients than derived above. The change particularly lies in tying the gradients for the hidden layer to its output as well since $\\mathbf{x}_t = \\widehat{\\mathbf{y}}_t$ for $t \\geq 1$. Therefore, equations $(\\text{h}1)$ and $(\\text{h}2)$ need to be updated to the following for $1 \\leq \\tau \\leq t-1$:\n",
    "    $$\\begin{align*}\n",
    "    \\frac{\\partial E_t}{\\partial \\mathbf{W}^{cc}} = \\boldsymbol{\\delta}^c_{\\tau+1}\\mathbf{c}_\\tau^\\top, \\quad&\\frac{\\partial E_t}{\\partial \\mathbf{W}^{cx}} = \\boldsymbol{\\delta}^c_{\\tau+1}\\widehat{\\mathbf{y}}_\\tau^\\top, \\quad \\frac{\\partial E_t}{\\partial \\mathbf{b}^{c}} = \\boldsymbol{\\delta}^c_{\\tau+1} \\tag{h\\(1^\\prime\\) a}\\\\[2mm]\n",
    "    \\boldsymbol{\\delta}^y_\\tau = \\boldsymbol{\\phi}^\\prime(\\mathbf{s}^y_\\tau) \\odot \\mathbf{W}^{cx\\top}\\boldsymbol{\\delta}^c_{\\tau+1}&, \\quad \\frac{\\partial E_t}{\\partial \\mathbf{W}^{yc}} = \\boldsymbol{\\delta}^y_{\\tau}\\mathbf{c}^\\top_\\tau, \\quad \\frac{\\partial E_t}{\\partial \\mathbf{b}^{y}} = \\boldsymbol{\\delta}^y_\\tau \\tag{h\\(1^\\prime\\) b} \\\\[4mm]\n",
    "    \\boldsymbol{\\delta}^c_\\tau = \\frac{\\partial \\mathbf{c}_\\tau}{\\partial \\mathbf{s}^c_\\tau}\\frac{\\partial \\mathbf{s}^c_{\\tau+1}}{\\partial \\mathbf{c}_\\tau}\\frac{\\partial E_t}{\\partial \\mathbf{s}^c_{\\tau+1}} &+ \\frac{\\partial \\mathbf{c}_\\tau}{\\partial \\mathbf{s}^c_\\tau}\\frac{\\partial \\mathbf{s}^y_\\tau}{\\partial \\mathbf{c}_\\tau}\\frac{\\partial \\mathbf{y}_\\tau}{\\partial \\mathbf{s}^y_\\tau}\\frac{\\partial \\mathbf{s}^c_{\\tau+1}}{\\partial \\mathbf{y}_\\tau}\\frac{\\partial E_t}{\\partial \\mathbf{s}^c_{\\tau+1}} \\\\\n",
    "    = \\boldsymbol{\\theta}^\\prime\\left(\\mathbf{s}_\\tau^c\\right)\\odot\\Big(\\mathbf{W}^{cc\\top} &+ \\mathbf{W}^{yc\\top}\\text{diag}\\left(\\boldsymbol{\\phi}^\\prime\\left(\\mathbf{s}^y_\\tau\\right)\\right)\\mathbf{W}^{cx\\top} \\Big)\\boldsymbol{\\delta}^c_{\\tau+1}. \\tag{h\\(2^\\prime\\)}\n",
    "    \\end{align*}$$\n",
    "\n",
    "We will now implement BPTT and then write the network training loop in the next section."
   ]
  },
  {
   "cell_type": "code",
   "execution_count": null,
   "metadata": {},
   "outputs": [],
   "source": [
    "def bptt(self, ys, loss, T, alpha, fine_tune):\n",
    "    # makes more sense to do a full forward rollout till T and then backprop\n",
    "        # store the step inputs and outputs at each step for backprop\n",
    "    # loop through seqIDs in random order per epoch\n",
    "    grad_weights, grad_biases, grad_c0 = {}, {}, {}\n",
    "    return grad_weights, grad_biases, grad_c0"
   ]
  },
  {
   "cell_type": "markdown",
   "metadata": {},
   "source": [
    "## 3. Fitting to the Data\n",
    "\n",
    "### 3.1 Training and Applying Gradients\n",
    "We will multiply by the learning rate $\\alpha=0.001$"
   ]
  },
  {
   "cell_type": "code",
   "execution_count": null,
   "metadata": {},
   "outputs": [],
   "source": [
    "def train(self, ys, T=30, epochs=1000, alpha=0.001, fine_tune=False):\n",
    "    loss_hist = np.empty((0,ys.shape[1]), float)\n",
    "\n",
    "    for epoch in range(epochs):\n",
    "        # apply gradient descent\n",
    "        grad_weights, grad_biases = self.bptt(seqID, ys, loss, fine_tune=fine_tune)\n",
    "        \n",
    "        self.apply_gradients(grad_weights, grad_biases)\n",
    "\n",
    "        # compute current loss and accuracy\n",
    "        outputs   = []\n",
    "        loss_hist = []\n",
    "\n",
    "        # print progress\n",
    "        if epoch % 20 == 0:\n",
    "            print(f\"Epoch {epoch} | Net training Loss: {loss_hist[-1, 0]}\")\n",
    "\n",
    "    return self.weights, self.biases, loss_hist"
   ]
  },
  {
   "cell_type": "markdown",
   "metadata": {},
   "source": [
    "## 4. \"Generating\" the Data: Autonomous Dynamical System\n"
   ]
  },
  {
   "cell_type": "markdown",
   "metadata": {},
   "source": [
    "## 5. Context State Analysis\n",
    "\n",
    "### 5.1 Context Manifold\n",
    "See how the context evolves.\n",
    "\n",
    "### 5.2 Perturbation Analysis\n",
    "See if the attractors are stable and when a transition could happen. Plot phase space. Perturb in both x and c.\n"
   ]
  }
 ],
 "metadata": {
  "kernelspec": {
   "display_name": "Python 3",
   "language": "python",
   "name": "python3"
  },
  "language_info": {
   "codemirror_mode": {
    "name": "ipython",
    "version": 3
   },
   "file_extension": ".py",
   "mimetype": "text/x-python",
   "name": "python",
   "nbconvert_exporter": "python",
   "pygments_lexer": "ipython3",
   "version": "3.13.0"
  }
 },
 "nbformat": 4,
 "nbformat_minor": 2
}
