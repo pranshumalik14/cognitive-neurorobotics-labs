{
 "cells": [
  {
   "cell_type": "markdown",
   "metadata": {},
   "source": [
    "# Investigating Adaptive Chunk-based Composition in RNNs\n",
    "\n",
    "In this project, we will investigate the reuse of common elements (e.g. sub-sequences) present across training examples by probing the hidden activity of gated-recurrent units (GRUs) when they regenerate the original sequences."
   ]
  },
  {
   "cell_type": "code",
   "execution_count": 60,
   "metadata": {},
   "outputs": [],
   "source": [
    "import numpy as np\n",
    "import matplotlib.pyplot as plt\n",
    "import os\n",
    "import torch as th\n",
    "from torch import nn"
   ]
  },
  {
   "cell_type": "code",
   "execution_count": 59,
   "metadata": {},
   "outputs": [],
   "source": [
    "# load dataset: n_words, n_repeats, n_samples, 2 (x,y)\n",
    "all_words = np.load('./data/all_words.npz')\n",
    "# validate dataset\n",
    "if len(all_words.keys()) > 1:\n",
    "    keys = list(all_words.keys())\n",
    "    assert all([all_words[keys[0]].shape == all_words[keys[i]].shape for i in range(1, len(keys))])"
   ]
  },
  {
   "cell_type": "code",
   "execution_count": null,
   "metadata": {},
   "outputs": [],
   "source": [
    "class RNN(nn.Module):\n",
    "    \"\"\"\n",
    "    gru with 1 hidden layer and trainable h0, and a fully connected output layer\n",
    "    \"\"\"\n",
    "    def __init__(self, input_dim: int, hidden_dim: int, output_dim: int, num_words: int,  device):\n",
    "        # member variables\n",
    "        super().__init__()\n",
    "        self.device = device\n",
    "        self.input_dim = input_dim\n",
    "        self.hidden_dim = hidden_dim\n",
    "        self.output_dim = output_dim\n",
    "        self.n_layers = 1\n",
    "        self.gru = nn.GRU(input_dim, hidden_dim, self.n_layers, batch_first=True)\n",
    "        self.fc = nn.Linear(hidden_dim, output_dim)\n",
    "        self.sigmoid = nn.Sigmoid()\n",
    "\n",
    "        # initialize params\n",
    "        for name, param in self.named_parameters():\n",
    "            if name == \"gru.weight_ih_l0\":\n",
    "                nn.init.xavier_uniform_(param)\n",
    "            elif name == \"gru.weight_hh_l0\":\n",
    "                nn.init.orthogonal_(param)\n",
    "            elif name == \"gru.bias_ih_l0\":\n",
    "                nn.init.zeros_(param)\n",
    "            elif name == \"gru.bias_hh_l0\":\n",
    "                nn.init.zeros_(param)\n",
    "            elif name == \"fc.weight\":\n",
    "                nn.init.xavier_uniform_(param)\n",
    "            elif name == \"fc.bias\":\n",
    "                nn.init.zeros_(param)\n",
    "            else:\n",
    "                raise ValueError(f\"Parameter {name} not initialized\")\n",
    "\n",
    "        # trainable initial hidden states\n",
    "        self.h0 = nn.Parameter(th.zeros(self.n_layers, num_words, hidden_dim), requires_grad=True)\n",
    "\n",
    "        # move to device\n",
    "        self.to(device)\n",
    "\n",
    "    def forward(self, x: th.Tensor, h0: th.Tensor):\n",
    "        z, h = self.gru(x[:, None, :], h0) # todo: see if this will work!\n",
    "        u = self.sigmoid(self.fc(z)).squeeze(dim=1)\n",
    "        return u, h\n",
    "\n",
    "    def init_hidden(self, batch_size: int):\n",
    "        assert hasattr(self, 'h0')\n",
    "        return self.h0.repeat(1, batch_size, 1).to(self.device) # todo: will this work????"
   ]
  },
  {
   "cell_type": "code",
   "execution_count": null,
   "metadata": {},
   "outputs": [],
   "source": [
    "# todo: how to ensure that the h0 is kept separate for each minibatch (i.e. per word)?\n",
    "# todo: or that training happens over the entire dataset (all words) at once per epoch?\n",
    "# todo: the environment has to provide (mini)batchwise words, n_repeats, T steps, and as feedback the cumsum of actions \n",
    "#       (mimicking visual feedback)"
   ]
  }
 ],
 "metadata": {
  "kernelspec": {
   "display_name": "Python 3",
   "language": "python",
   "name": "python3"
  },
  "language_info": {
   "codemirror_mode": {
    "name": "ipython",
    "version": 3
   },
   "file_extension": ".py",
   "mimetype": "text/x-python",
   "name": "python",
   "nbconvert_exporter": "python",
   "pygments_lexer": "ipython3",
   "version": "3.13.0"
  }
 },
 "nbformat": 4,
 "nbformat_minor": 2
}
